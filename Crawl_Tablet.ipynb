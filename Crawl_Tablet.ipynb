{
 "cells": [
  {
   "cell_type": "code",
   "execution_count": 89,
   "id": "28fa8bfb",
   "metadata": {},
   "outputs": [],
   "source": [
    "import pandas as pd\n",
    "import numpy as np\n",
    "from random import randint\n",
    "from time import sleep\n",
    "from selenium import webdriver\n",
    "from selenium.webdriver.common.by import By\n",
    "from selenium.webdriver.common.action_chains import ActionChains"
   ]
  },
  {
   "cell_type": "markdown",
   "id": "f8e1f9ac",
   "metadata": {},
   "source": [
    "### Khởi tạo driver"
   ]
  },
  {
   "cell_type": "code",
   "execution_count": 47,
   "id": "9e867319",
   "metadata": {
    "scrolled": true
   },
   "outputs": [],
   "source": [
    "driver = webdriver.Chrome(options=options)\n",
    "driver.maximize_window()"
   ]
  },
  {
   "cell_type": "markdown",
   "id": "80303665",
   "metadata": {},
   "source": [
    "## Truy cập trang bán máy tính bảng của tiki"
   ]
  },
  {
   "cell_type": "code",
   "execution_count": 3,
   "id": "1c6f18f3",
   "metadata": {},
   "outputs": [],
   "source": [
    "driver.get(\"https://tiki.vn/may-tinh-bang/c1794\")\n",
    "sleep(randint(5,10))"
   ]
  },
  {
   "cell_type": "markdown",
   "id": "7199b6e1",
   "metadata": {},
   "source": [
    "#### Lấy link và tên sản phẩm"
   ]
  },
  {
   "cell_type": "code",
   "execution_count": 4,
   "id": "ca4c1aa2",
   "metadata": {},
   "outputs": [],
   "source": [
    "links_tiki = []\n",
    "title_tiki = []"
   ]
  },
  {
   "cell_type": "code",
   "execution_count": 5,
   "id": "868024f2",
   "metadata": {},
   "outputs": [],
   "source": [
    "while True:\n",
    "    try:\n",
    "        products = driver.find_elements(By.CSS_SELECTOR, \".style__ProductLink-sc-7xd6qw-2.fHwskZ.product-item\")\n",
    "        for prod in products:\n",
    "            links_tiki.append(prod.get_attribute(\"href\"))\n",
    "            title_tiki.append(prod.find_element(By.CSS_SELECTOR, \"h3\").text)\n",
    "\n",
    "        # Load thêm sản phẩm\n",
    "        more_page = driver.find_element(By.CSS_SELECTOR, \".Pagination__Root-sc-cyke21-0.gNgpAR li:nth-of-type(5) a\")\n",
    "        if more_page.get_attribute(\"class\") == '':\n",
    "            more_page.click()\n",
    "            sleep(randint(5,10))\n",
    "        else:\n",
    "            break\n",
    "    except:\n",
    "        break"
   ]
  },
  {
   "cell_type": "code",
   "execution_count": 6,
   "id": "5774a1cc",
   "metadata": {},
   "outputs": [
    {
     "data": {
      "text/plain": [
       "92"
      ]
     },
     "execution_count": 6,
     "metadata": {},
     "output_type": "execute_result"
    }
   ],
   "source": [
    "len(links_tiki)"
   ]
  },
  {
   "cell_type": "code",
   "execution_count": 7,
   "id": "8513f886",
   "metadata": {},
   "outputs": [
    {
     "data": {
      "text/plain": [
       "92"
      ]
     },
     "execution_count": 7,
     "metadata": {},
     "output_type": "execute_result"
    }
   ],
   "source": [
    "len(title_tiki)"
   ]
  },
  {
   "cell_type": "markdown",
   "id": "cee8b28a",
   "metadata": {},
   "source": [
    "#### Lấy thông tin cụ thể từng sản phẩm"
   ]
  },
  {
   "cell_type": "code",
   "execution_count": 8,
   "id": "7452c44a",
   "metadata": {},
   "outputs": [],
   "source": [
    "price_tiki = []\n",
    "discount_price_tiki = []\n",
    "discount_tiki = []"
   ]
  },
  {
   "cell_type": "code",
   "execution_count": 9,
   "id": "8dea853d",
   "metadata": {},
   "outputs": [],
   "source": [
    "res_tiki = [] # Độ phân giải\n",
    "screen_width_tiki = [] # Độ rộng màn hình\n",
    "os_tiki = [] # Hệ điều hành\n",
    "cpu_tiki = [] # Chip\n",
    "cpu_proc_speed_tiki = [] # Tốc độ xử lý cpu\n",
    "gpu_tiki = [] # Chip gpu\n",
    "ram_tiki = [] # Dung lượng ram\n",
    "storage_tiki = [] # Dung lượng lưu trữ\n",
    "front_camera_tiki = [] # Độ phân giải camera trước\n",
    "rear_camera_tiki = [] # Độ phân giải camera sau\n",
    "battery_tiki = [] # Dung lượng pin\n",
    "size_tiki = [] # Kích thước\n",
    "weight_tiki = [] # Khối lượng\n",
    "brand_tiki = [] # Hãng"
   ]
  },
  {
   "cell_type": "code",
   "execution_count": 10,
   "id": "11d96e26",
   "metadata": {},
   "outputs": [],
   "source": [
    "for link in links_tiki:\n",
    "    # Truy cập từng link\n",
    "    driver.get(link)\n",
    "    \n",
    "    try:\n",
    "        # Nếu có discount\n",
    "        discount_price = int(''.join(driver.find_element(By.CSS_SELECTOR, \".product-price__current-price\").text[:-1].split('.')))\n",
    "        discount = driver.find_element(By.CSS_SELECTOR, \".product-price__discount-rate\").text[1:]\n",
    "        price = int(round(discount_price/(100-int(discount[:-1]))*100,-3))\n",
    "        price_tiki.append(price)\n",
    "        discount_price_tiki.append(discount_price)\n",
    "        discount_tiki.append(discount)\n",
    "    except:\n",
    "        try:\n",
    "            # Không có discount\n",
    "            discount_price = int(''.join(driver.find_element(By.CSS_SELECTOR, \".product-price__current-price\").text[:-1].split('.')))\n",
    "            price = int(''.join(driver.find_element(By.CSS_SELECTOR, \".product-price__current-price\").text[:-1].split('.')))\n",
    "            discount = \"0%\"\n",
    "            price_tiki.append(price)\n",
    "            discount_price_tiki.append(discount_price)\n",
    "            discount_tiki.append(discount)\n",
    "        except:\n",
    "            # Không có giá\n",
    "            price_tiki.append(None)\n",
    "            discount_price_tiki.append(None)\n",
    "            discount_tiki.append(None)\n",
    "        \n",
    "    # Lăn chuột dần dần để hiện thông tin\n",
    "    height = 0\n",
    "    while height<=2000:\n",
    "        driver.execute_script(f'window.scrollTo(0,{height})')\n",
    "        sleep(1)\n",
    "        height+=500\n",
    "       \n",
    "    # Đến chỗ thông tin sản phẩm\n",
    "    detail = driver.find_element(By.XPATH, \"//div[text()='Thông tin chi tiết']//parent::div//div[2]\")\n",
    "    ActionChains(driver).move_to_element(detail).perform()\n",
    "    sleep(1)\n",
    "    \n",
    "    # Lấy độ phân giải\n",
    "    try:\n",
    "        res = detail.find_element(By.XPATH, \"//span[text()='Độ phân giải']//parent::div//span[2]\").text\n",
    "        res_tiki.append(res)\n",
    "    except:\n",
    "        res_tiki.append(None)\n",
    "        \n",
    "    # Lấy độ rộng màn hình    \n",
    "    try:\n",
    "        screen_width = detail.find_element(By.XPATH, \"//span[text()='Kích thước màn hình']//parent::div//span[2]\").text\n",
    "        screen_width_tiki.append(screen_width)\n",
    "    except:\n",
    "        screen_width_tiki.append(None)\n",
    "        \n",
    "    # Lấy os    \n",
    "    try:\n",
    "        os = detail.find_element(By.XPATH, \"//span[text()='Hệ điều hành']//parent::div//span[2]\").text\n",
    "        os_tiki.append(os)\n",
    "    except:\n",
    "        os_tiki.append(None)\n",
    "\n",
    "    # Lấy cpu   \n",
    "    try:\n",
    "        cpu = detail.find_element(By.XPATH, \"//span[text()='Chip set']//parent::div//span[2]\").text\n",
    "        cpu_tiki.append(cpu)\n",
    "    except:\n",
    "        cpu_tiki.append(None)\n",
    "        \n",
    "    # Lấy tốc độ cpu    \n",
    "    try:\n",
    "        cpu_proc_speed = detail.find_element(By.XPATH, \"//span[text()='Tốc độ CPU']//parent::div//span[2]\").text\n",
    "        cpu_proc_speed_tiki.append(cpu_proc_speed)\n",
    "    except:\n",
    "        cpu_proc_speed_tiki.append(None)\n",
    "        \n",
    "    # Lấy gpu\n",
    "    try:\n",
    "        gpu = detail.find_element(By.XPATH, \"//span[text()='Chip đồ họa (GPU)']//parent::div//span[2]\").text\n",
    "        gpu_tiki.append(gpu)\n",
    "    except:\n",
    "        gpu_tiki.append(None)\n",
    "    \n",
    "    # Lấy ram\n",
    "    try:\n",
    "        ram = detail.find_element(By.XPATH, \"//span[text()='RAM']//parent::div//span[2]\").text\n",
    "        ram_tiki.append(ram)\n",
    "    except:\n",
    "        ram_tiki.append(None)\n",
    "        \n",
    "    # Lấy dung lượng    \n",
    "    try:\n",
    "        storage = detail.find_element(By.XPATH, \"//span[text()='ROM']//parent::div//span[2]\").text\n",
    "        storage_tiki.append(storage)\n",
    "    except:\n",
    "        storage_tiki.append(None)\n",
    "    \n",
    "    # Lấy camera sau\n",
    "    try:\n",
    "        rear_camera = detail.find_element(By.XPATH, \"//span[text()='Camera sau']//parent::div//span[2]\").text\n",
    "        rear_camera_tiki.append(rear_camera)\n",
    "    except:\n",
    "        rear_camera_tiki.append(None)\n",
    "        \n",
    "    # Lấy camera trước\n",
    "    try:\n",
    "        front_camera = detail.find_element(By.XPATH, \"//span[text()='Camera trước']//parent::div//span[2]\").text\n",
    "        front_camera_tiki.append(front_camera)\n",
    "    except:\n",
    "        front_camera_tiki.append(None)\n",
    "    \n",
    "    # Lấy dung lượng pin\n",
    "    try:\n",
    "        battery = detail.find_element(By.XPATH, \"//span[text()='Dung lượng pin']//parent::div//span[2]\").text\n",
    "        battery_tiki.append(battery)\n",
    "    except:\n",
    "        battery_tiki.append(None)\n",
    "        \n",
    "    # Lấy kích thước\n",
    "    try:\n",
    "        size = detail.find_element(By.XPATH, \"//span[text()='Kích thước']//parent::div//span[2]\").text\n",
    "        size_tiki.append(size)\n",
    "    except:\n",
    "        size_tiki.append(None)\n",
    "        \n",
    "    # Lấy trọng lượng\n",
    "    try:\n",
    "        weight = detail.find_element(By.XPATH, \"//span[text()='Trọng lượng sản phẩm']//parent::div//span[2]\").text\n",
    "        weight_tiki.append(weight)\n",
    "    except:\n",
    "        weight_tiki.append(None)\n",
    "        \n",
    "    # Lấy hãng\n",
    "    try:\n",
    "        brand = detail.find_element(By.XPATH, \"//span[text()='Thương hiệu']//parent::div//span[2]\").text\n",
    "        brand_tiki.append(brand)\n",
    "    except:\n",
    "        brand_tiki.append(None)"
   ]
  },
  {
   "cell_type": "markdown",
   "id": "a0b3ddda",
   "metadata": {},
   "source": [
    "## Truy cập trang bán máy tính bảng của cellphones"
   ]
  },
  {
   "cell_type": "code",
   "execution_count": 11,
   "id": "6bf25a7e",
   "metadata": {},
   "outputs": [],
   "source": [
    "driver.get(\"https://cellphones.com.vn/tablet.html\")\n",
    "sleep(randint(5,10))\n",
    "\n",
    "# Load thêm sản phẩm\n",
    "while True:\n",
    "    try:\n",
    "        view_more = driver.find_element(By.CSS_SELECTOR, \".button.btn-show-more.button__show-more-product\")\n",
    "        ActionChains(driver).move_to_element(view_more).click().perform()\n",
    "        sleep(randint(5,10))\n",
    "    except:\n",
    "        break"
   ]
  },
  {
   "cell_type": "markdown",
   "id": "83437cd3",
   "metadata": {},
   "source": [
    "#### Lấy danh sách sản phẩm"
   ]
  },
  {
   "cell_type": "code",
   "execution_count": 12,
   "id": "279df991",
   "metadata": {},
   "outputs": [],
   "source": [
    "cellphones_products = driver.find_elements(By.CSS_SELECTOR, \".product-info\")"
   ]
  },
  {
   "cell_type": "code",
   "execution_count": 13,
   "id": "f3d88d48",
   "metadata": {},
   "outputs": [
    {
     "data": {
      "text/plain": [
       "109"
      ]
     },
     "execution_count": 13,
     "metadata": {},
     "output_type": "execute_result"
    }
   ],
   "source": [
    "len(cellphones_products)"
   ]
  },
  {
   "cell_type": "markdown",
   "id": "4a3d7f06",
   "metadata": {},
   "source": [
    "Như vậy có thêm 109 sản phẩm."
   ]
  },
  {
   "cell_type": "markdown",
   "id": "6dea60f2",
   "metadata": {},
   "source": [
    "#### Lấy link và tên sản phẩm"
   ]
  },
  {
   "cell_type": "code",
   "execution_count": 14,
   "id": "913de4d2",
   "metadata": {},
   "outputs": [],
   "source": [
    "links_cps = []\n",
    "title_cps = []"
   ]
  },
  {
   "cell_type": "code",
   "execution_count": 15,
   "id": "2b6363f9",
   "metadata": {},
   "outputs": [],
   "source": [
    "for prod in cellphones_products:\n",
    "    links_cps.append(prod.find_element(By.CSS_SELECTOR, \".product__link.button__link\").get_attribute(\"href\"))\n",
    "    title_cps.append(prod.find_element(By.CSS_SELECTOR, \".product__name\").text)"
   ]
  },
  {
   "cell_type": "markdown",
   "id": "e63fd47f",
   "metadata": {},
   "source": [
    "##### Kiểm tra xem có đủ link và title chưa"
   ]
  },
  {
   "cell_type": "code",
   "execution_count": 16,
   "id": "cc94a348",
   "metadata": {},
   "outputs": [
    {
     "data": {
      "text/plain": [
       "109"
      ]
     },
     "execution_count": 16,
     "metadata": {},
     "output_type": "execute_result"
    }
   ],
   "source": [
    "len(links_cps)"
   ]
  },
  {
   "cell_type": "code",
   "execution_count": 17,
   "id": "61a74663",
   "metadata": {
    "scrolled": true
   },
   "outputs": [
    {
     "data": {
      "text/plain": [
       "109"
      ]
     },
     "execution_count": 17,
     "metadata": {},
     "output_type": "execute_result"
    }
   ],
   "source": [
    "len(title_cps)"
   ]
  },
  {
   "cell_type": "markdown",
   "id": "84416b00",
   "metadata": {},
   "source": [
    "#### Lấy thông tin về giá"
   ]
  },
  {
   "cell_type": "code",
   "execution_count": 18,
   "id": "07dd6a2a",
   "metadata": {},
   "outputs": [],
   "source": [
    "price_cps = [] # Giá gốc\n",
    "discount_price_cps = [] # Giá sau khi giảm giá\n",
    "discount_cps = [] # Discount"
   ]
  },
  {
   "cell_type": "code",
   "execution_count": 19,
   "id": "9dd62e5d",
   "metadata": {},
   "outputs": [],
   "source": [
    "for prod in cellphones_products:\n",
    "    try:\n",
    "        # Nếu có discount\n",
    "        price = int(''.join(prod.find_element(By.CSS_SELECTOR, \".product__price--through\").text[:-1].split('.')))\n",
    "        discount_price = int(''.join(prod.find_element(By.CSS_SELECTOR, \".product__price--show\").text[:-1].split('.')))\n",
    "        discount = prod.find_element(By.CSS_SELECTOR, \".product__price--percent-detail\").text.split(' ')[1]\n",
    "        price_cps.append(price)\n",
    "        discount_price_cps.append(discount_price)\n",
    "        discount_cps.append(discount)\n",
    "    except:\n",
    "        try:\n",
    "            # Không có discount\n",
    "            price = int(''.join(prod.find_element(By.CSS_SELECTOR, \".product__price--show\").text[:-1].split('.')))\n",
    "            discount_price = int(''.join(prod.find_element(By.CSS_SELECTOR, \".product__price--show\").text[:-1].split('.')))\n",
    "            discount = \"0%\"\n",
    "            price_cps.append(price)\n",
    "            discount_price_cps.append(discount_price)\n",
    "            discount_cps.append(discount)\n",
    "        except:\n",
    "            # Không có giá\n",
    "            price_cps.append(None)\n",
    "            discount_price_cps.append(None)\n",
    "            discount_cps.append(None)"
   ]
  },
  {
   "cell_type": "code",
   "execution_count": 20,
   "id": "8e2ab69b",
   "metadata": {},
   "outputs": [
    {
     "data": {
      "text/plain": [
       "109"
      ]
     },
     "execution_count": 20,
     "metadata": {},
     "output_type": "execute_result"
    }
   ],
   "source": [
    "len(price_cps)"
   ]
  },
  {
   "cell_type": "code",
   "execution_count": 21,
   "id": "d929558f",
   "metadata": {},
   "outputs": [
    {
     "data": {
      "text/plain": [
       "109"
      ]
     },
     "execution_count": 21,
     "metadata": {},
     "output_type": "execute_result"
    }
   ],
   "source": [
    "len(discount_price_cps)"
   ]
  },
  {
   "cell_type": "code",
   "execution_count": 22,
   "id": "1ae6c0aa",
   "metadata": {},
   "outputs": [
    {
     "data": {
      "text/plain": [
       "109"
      ]
     },
     "execution_count": 22,
     "metadata": {},
     "output_type": "execute_result"
    }
   ],
   "source": [
    "len(discount_cps)"
   ]
  },
  {
   "cell_type": "markdown",
   "id": "5430789e",
   "metadata": {},
   "source": [
    "#### Lấy thông tin cụ thể từng sản phẩm"
   ]
  },
  {
   "cell_type": "code",
   "execution_count": 23,
   "id": "8cf7550e",
   "metadata": {},
   "outputs": [],
   "source": [
    "res_cps = [] # Độ phân giải\n",
    "screen_width_cps = [] # Độ rộng màn hình\n",
    "os_cps = [] # Hệ điều hành\n",
    "cpu_cps = [] # Chip\n",
    "cpu_proc_speed_cps = [] # Tốc độ xử lý cpu\n",
    "gpu_cps = [] # Chip gpu\n",
    "ram_cps = [] # Dung lượng ram\n",
    "storage_cps = [] # Dung lượng lưu trữ\n",
    "front_camera_cps = [] # Độ phân giải camera trước\n",
    "rear_camera_cps = [] # Độ phân giải camera sau\n",
    "battery_cps = [] # Dung lượng pin\n",
    "size_cps = [] # Kích thước\n",
    "weight_cps = [] # Trọng lượng\n",
    "brand_cps = [] # Hãng"
   ]
  },
  {
   "cell_type": "code",
   "execution_count": 24,
   "id": "97fe8295",
   "metadata": {
    "scrolled": true
   },
   "outputs": [],
   "source": [
    "for link in links_cps:\n",
    "    # Truy cập vào từng link\n",
    "    driver.get(link)\n",
    "    \n",
    "    # Lăn chuột dần dần để hiện thông tin\n",
    "    height = 0\n",
    "    while height<=2000:\n",
    "        driver.execute_script(f'window.scrollTo(0,{height})')\n",
    "        sleep(1)\n",
    "        height+=500\n",
    "    \n",
    "    # Ấn hiện thêm thông tin\n",
    "    view_detail = driver.find_element(By.CSS_SELECTOR, \".button.button__show-modal-technical.my-3.is-flex.is-justify-content-center\")\n",
    "    driver.execute_script(\"arguments[0].click();\", view_detail)\n",
    "    sleep(1)\n",
    "    \n",
    "    detail = driver.find_element(By.CSS_SELECTOR, \".technical-content-modal\")\n",
    "    \n",
    "    # Lấy độ phân giải\n",
    "    try:\n",
    "        res = detail.find_element(By.XPATH, \"//a[text()='Độ phân giải màn hình']//parent::p//parent::div//div\")\n",
    "        ActionChains(driver).move_to_element(res).perform()\n",
    "        res_cps.append(res.text)\n",
    "    except:\n",
    "        res_cps.append(None)\n",
    "        \n",
    "    # Lấy độ rộng màn hình    \n",
    "    try:\n",
    "        screen_width = detail.find_element(By.XPATH, \"//a[text()='Kích thước màn hình']//parent::p//parent::div//div\")\n",
    "        ActionChains(driver).move_to_element(screen_width).perform()\n",
    "        screen_width_cps.append(screen_width.text)\n",
    "    except:\n",
    "        screen_width_cps.append(None)\n",
    "        \n",
    "    # Lấy os    \n",
    "    try:\n",
    "        os = detail.find_element(By.XPATH, \"//a[text()='Hệ điều hành']//parent::p//parent::div//div\")\n",
    "        ActionChains(driver).move_to_element(os).perform()\n",
    "        os_cps.append(os.text)\n",
    "    except:\n",
    "        os_cps.append(None)\n",
    "\n",
    "    # Lấy cpu   \n",
    "    try:\n",
    "        cpu = detail.find_element(By.XPATH, \"//a[text()='Chipset']//parent::p//parent::div//div\")\n",
    "        ActionChains(driver).move_to_element(cpu).perform()\n",
    "        cpu_cps.append(cpu.text)\n",
    "    except:\n",
    "        cpu_cps.append(None)\n",
    "        \n",
    "    # Lấy tốc độ cpu    \n",
    "    try:\n",
    "        cpu_proc_speed = detail.find_element(By.XPATH, \"//p[text()='Loại CPU']//parent::p//parent::div//div\")\n",
    "        ActionChains(driver).move_to_element(cpu_proc_speed).perform()\n",
    "        cpu_proc_speed_cps.append(cpu_proc_speed.text)\n",
    "    except:\n",
    "        cpu_proc_speed_cps.append(None)\n",
    "        \n",
    "    # Lấy gpu\n",
    "    try:\n",
    "        gpu = detail.find_element(By.XPATH, \"//a[text()='GPU']//parent::p//parent::div//div\")\n",
    "        ActionChains(driver).move_to_element(gpu).perform()\n",
    "        gpu_cps.append(gpu.text)\n",
    "    except:\n",
    "        gpu_cps.append(None)\n",
    "    \n",
    "    # Lấy ram\n",
    "    try:\n",
    "        ram = detail.find_element(By.XPATH, \"//a[text()='Dung lượng RAM']//parent::p//parent::div//div\")\n",
    "        ActionChains(driver).move_to_element(ram).perform()\n",
    "        ram_cps.append(ram.text)\n",
    "    except:\n",
    "        ram_cps.append(None)\n",
    "        \n",
    "    # Lấy dung lượng    \n",
    "    try:\n",
    "        storage = detail.find_element(By.XPATH, \"//a[text()='Bộ nhớ trong']//parent::p//parent::div//div\")\n",
    "        ActionChains(driver).move_to_element(storage).perform()\n",
    "        storage_cps.append(storage.text)\n",
    "    except:\n",
    "        storage_cps.append(None)\n",
    "    \n",
    "    # Lấy camera sau\n",
    "    try:\n",
    "        rear_camera = detail.find_element(By.XPATH, \"//p[text()='Camera sau']//parent::p//parent::div//div\")\n",
    "        ActionChains(driver).move_to_element(rear_camera).perform()\n",
    "        rear_camera_cps.append(rear_camera.text)\n",
    "    except:\n",
    "        rear_camera_cps.append(None)\n",
    "        \n",
    "    # Lấy camera trước\n",
    "    try:\n",
    "        front_camera = detail.find_element(By.XPATH, \"//p[text()='Camera trước']//parent::p//parent::div//div\")\n",
    "        ActionChains(driver).move_to_element(front_camera).perform()\n",
    "        front_camera_cps.append(front_camera.text)\n",
    "    except:\n",
    "        front_camera_cps.append(None)\n",
    "    \n",
    "    # Lấy dung lượng pin\n",
    "    try:\n",
    "        battery = detail.find_element(By.XPATH, \"//a[text()='Pin']//parent::p//parent::div//div\")\n",
    "        ActionChains(driver).move_to_element(battery).perform()\n",
    "        battery_cps.append(battery.text)\n",
    "    except:\n",
    "        battery_cps.append(None)\n",
    "        \n",
    "    # Lấy kích thước\n",
    "    try:\n",
    "        size = detail.find_element(By.XPATH, \"//p[text()='Kích thước']//parent::p//parent::div//div\")\n",
    "        ActionChains(driver).move_to_element(size).perform()\n",
    "        size_cps.append(size.text)\n",
    "    except:\n",
    "        size_cps.append(None)\n",
    "        \n",
    "    # Lấy trọng lượng\n",
    "    try:\n",
    "        weight = detail.find_element(By.XPATH, \"//p[text()='Trọng lượng']//parent::p//parent::div//div\")\n",
    "        ActionChains(driver).move_to_element(weight).perform()\n",
    "        weight_cps.append(weight.text)\n",
    "    except:\n",
    "        weight_cps.append(None)\n",
    "        \n",
    "    # Lấy hãng\n",
    "    try:\n",
    "        brand = detail.find_element(By.XPATH, \"//p[text()='Hãng']//parent::p//parent::div//div\")\n",
    "        ActionChains(driver).move_to_element(brand).perform()\n",
    "        brand_cps.append(brand.text)\n",
    "    except:\n",
    "        brand_cps.append(None)"
   ]
  },
  {
   "cell_type": "markdown",
   "id": "8240c372",
   "metadata": {},
   "source": [
    "## Truy cập trang bán máy tính bảng của viettelstore"
   ]
  },
  {
   "cell_type": "code",
   "execution_count": 48,
   "id": "8e133f18",
   "metadata": {},
   "outputs": [],
   "source": [
    "driver.get(\"https://viettelstore.vn/may-tinh-bang\")\n",
    "sleep(randint(5,10))\n",
    "# Load thêm sản phẩm\n",
    "while True:\n",
    "    try:\n",
    "        view_more = driver.find_element(By.XPATH,\"//a[text()='Xem thêm sản phẩm ']\")\n",
    "        ActionChains(driver).move_to_element(view_more).click(view_more).perform()\n",
    "        sleep(randint(5,10))\n",
    "    except:\n",
    "        break"
   ]
  },
  {
   "cell_type": "markdown",
   "id": "2904b797",
   "metadata": {},
   "source": [
    "#### Lấy danh sách sản phẩm"
   ]
  },
  {
   "cell_type": "code",
   "execution_count": 49,
   "id": "52b9c05a",
   "metadata": {},
   "outputs": [],
   "source": [
    "viettel_products = driver.find_elements(By.CSS_SELECTOR, \".product-info\")"
   ]
  },
  {
   "cell_type": "code",
   "execution_count": 50,
   "id": "bbe64ef2",
   "metadata": {
    "scrolled": true
   },
   "outputs": [
    {
     "data": {
      "text/plain": [
       "57"
      ]
     },
     "execution_count": 50,
     "metadata": {},
     "output_type": "execute_result"
    }
   ],
   "source": [
    "len(viettel_products)"
   ]
  },
  {
   "cell_type": "markdown",
   "id": "47576001",
   "metadata": {},
   "source": [
    "Như vây có thêm 57 sản phẩm."
   ]
  },
  {
   "cell_type": "markdown",
   "id": "f4a6ad82",
   "metadata": {},
   "source": [
    "#### Lấy links và tên sản phẩm"
   ]
  },
  {
   "cell_type": "code",
   "execution_count": 51,
   "id": "f7a6de15",
   "metadata": {},
   "outputs": [],
   "source": [
    "links_viettel = []\n",
    "title_viettel = []"
   ]
  },
  {
   "cell_type": "code",
   "execution_count": 52,
   "id": "32f68fc3",
   "metadata": {},
   "outputs": [],
   "source": [
    "for prod in viettel_products:\n",
    "    links_viettel.append(prod.find_element(By.CSS_SELECTOR, \"a\").get_attribute(\"href\"))\n",
    "    title_viettel.append(prod.find_element(By.CSS_SELECTOR, \"h3\").text)"
   ]
  },
  {
   "cell_type": "markdown",
   "id": "0a312b3b",
   "metadata": {},
   "source": [
    "##### Kiểm tra xem đủ link và title chưa"
   ]
  },
  {
   "cell_type": "code",
   "execution_count": 53,
   "id": "759a267d",
   "metadata": {
    "scrolled": true
   },
   "outputs": [
    {
     "data": {
      "text/plain": [
       "57"
      ]
     },
     "execution_count": 53,
     "metadata": {},
     "output_type": "execute_result"
    }
   ],
   "source": [
    "len(links_viettel)"
   ]
  },
  {
   "cell_type": "code",
   "execution_count": 54,
   "id": "132e6228",
   "metadata": {},
   "outputs": [
    {
     "data": {
      "text/plain": [
       "57"
      ]
     },
     "execution_count": 54,
     "metadata": {},
     "output_type": "execute_result"
    }
   ],
   "source": [
    "len(title_viettel)"
   ]
  },
  {
   "cell_type": "markdown",
   "id": "c3ebbe42",
   "metadata": {},
   "source": [
    "#### Lấy thông tin về giá"
   ]
  },
  {
   "cell_type": "code",
   "execution_count": 55,
   "id": "e1f67820",
   "metadata": {},
   "outputs": [],
   "source": [
    "price_viettel = [] # Giá gốc\n",
    "discount_price_viettel = [] # Giá sau khi giảm giá\n",
    "discount_viettel = [] # Discount"
   ]
  },
  {
   "cell_type": "code",
   "execution_count": 56,
   "id": "19f5128f",
   "metadata": {},
   "outputs": [],
   "source": [
    "for prod in viettel_products:\n",
    "    try:\n",
    "        # Nếu có discount\n",
    "        price = int(''.join(prod.find_element(By.CSS_SELECTOR, \".price-old\").text[:-2].split('.')))\n",
    "        discount_price = int(''.join(prod.find_element(By.CSS_SELECTOR, \".price\").text[:-2].split('.')))\n",
    "        discount = prod.find_element(By.CSS_SELECTOR, \".percent-discount-text2\").text\n",
    "        price_viettel.append(price)\n",
    "        discount_price_viettel.append(discount_price)\n",
    "        discount_viettel.append(discount)\n",
    "    except:\n",
    "        try:\n",
    "            # Không có discount\n",
    "            price = int(''.join(prod.find_element(By.CSS_SELECTOR, \".price\").text[:-2].split('.')))\n",
    "            discount_price = int(''.join(prod.find_element(By.CSS_SELECTOR, \".price\").text[:-2].split('.')))\n",
    "            discount = \"0%\"\n",
    "            price_viettel.append(price)\n",
    "            discount_price_viettel.append(discount_price)\n",
    "            discount_viettel.append(discount)\n",
    "        except:\n",
    "            # Không có giá\n",
    "            price_viettel.append(None)\n",
    "            discount_price_viettel.append(None)\n",
    "            discount_viettel.append(None)"
   ]
  },
  {
   "cell_type": "markdown",
   "id": "bebde019",
   "metadata": {},
   "source": [
    "#### Lấy thông tin cụ thể từng sản phẩm"
   ]
  },
  {
   "cell_type": "code",
   "execution_count": 99,
   "id": "c1a030b1",
   "metadata": {},
   "outputs": [],
   "source": [
    "res_viettel = [] # Độ phân giải\n",
    "screen_width_viettel = [] # Độ rộng màn hình\n",
    "os_viettel = [] # Hệ điều hành\n",
    "cpu_viettel = [] # Chip\n",
    "cpu_proc_speed_viettel = [] # Tốc độ xử lý cpu\n",
    "gpu_viettel = [] # Chip gpu\n",
    "ram_viettel = [] # Dung lượng ram\n",
    "storage_viettel = [] # Dung lượng lưu trữ\n",
    "front_camera_viettel = [] # Độ phân giải camera trước\n",
    "rear_camera_viettel = [] # Độ phân giải camera sau\n",
    "battery_viettel = [] # Dung lượng pin\n",
    "size_viettel = [] # Kích thước\n",
    "weight_viettel = [] # Trọng lượng\n",
    "brand_viettel = [] # Hãng"
   ]
  },
  {
   "cell_type": "code",
   "execution_count": 100,
   "id": "e2d49b6b",
   "metadata": {},
   "outputs": [
    {
     "ename": "KeyboardInterrupt",
     "evalue": "",
     "output_type": "error",
     "traceback": [
      "\u001b[1;31m---------------------------------------------------------------------------\u001b[0m",
      "\u001b[1;31mKeyboardInterrupt\u001b[0m                         Traceback (most recent call last)",
      "Cell \u001b[1;32mIn[100], line 3\u001b[0m\n\u001b[0;32m      1\u001b[0m \u001b[38;5;28;01mfor\u001b[39;00m link \u001b[38;5;129;01min\u001b[39;00m links_viettel:\n\u001b[0;32m      2\u001b[0m     \u001b[38;5;66;03m# Truy cập từng link\u001b[39;00m\n\u001b[1;32m----> 3\u001b[0m     driver\u001b[38;5;241m.\u001b[39mget(link)\n\u001b[0;32m      5\u001b[0m     \u001b[38;5;66;03m# Lăn chuột dần dần để hiện thông tin\u001b[39;00m\n\u001b[0;32m      6\u001b[0m     height \u001b[38;5;241m=\u001b[39m \u001b[38;5;241m0\u001b[39m\n",
      "File \u001b[1;32m~\\anaconda3\\Lib\\site-packages\\selenium\\webdriver\\remote\\webdriver.py:333\u001b[0m, in \u001b[0;36mWebDriver.get\u001b[1;34m(self, url)\u001b[0m\n\u001b[0;32m    329\u001b[0m \u001b[38;5;28;01mdef\u001b[39;00m \u001b[38;5;21mget\u001b[39m(\u001b[38;5;28mself\u001b[39m, url):\n\u001b[0;32m    330\u001b[0m \u001b[38;5;250m    \u001b[39m\u001b[38;5;124;03m\"\"\"\u001b[39;00m\n\u001b[0;32m    331\u001b[0m \u001b[38;5;124;03m    Loads a web page in the current browser session.\u001b[39;00m\n\u001b[0;32m    332\u001b[0m \u001b[38;5;124;03m    \"\"\"\u001b[39;00m\n\u001b[1;32m--> 333\u001b[0m     \u001b[38;5;28mself\u001b[39m\u001b[38;5;241m.\u001b[39mexecute(Command\u001b[38;5;241m.\u001b[39mGET, {\u001b[38;5;124m'\u001b[39m\u001b[38;5;124murl\u001b[39m\u001b[38;5;124m'\u001b[39m: url})\n",
      "File \u001b[1;32m~\\anaconda3\\Lib\\site-packages\\selenium\\webdriver\\remote\\webdriver.py:319\u001b[0m, in \u001b[0;36mWebDriver.execute\u001b[1;34m(self, driver_command, params)\u001b[0m\n\u001b[0;32m    316\u001b[0m         params[\u001b[38;5;124m'\u001b[39m\u001b[38;5;124msessionId\u001b[39m\u001b[38;5;124m'\u001b[39m] \u001b[38;5;241m=\u001b[39m \u001b[38;5;28mself\u001b[39m\u001b[38;5;241m.\u001b[39msession_id\n\u001b[0;32m    318\u001b[0m params \u001b[38;5;241m=\u001b[39m \u001b[38;5;28mself\u001b[39m\u001b[38;5;241m.\u001b[39m_wrap_value(params)\n\u001b[1;32m--> 319\u001b[0m response \u001b[38;5;241m=\u001b[39m \u001b[38;5;28mself\u001b[39m\u001b[38;5;241m.\u001b[39mcommand_executor\u001b[38;5;241m.\u001b[39mexecute(driver_command, params)\n\u001b[0;32m    320\u001b[0m \u001b[38;5;28;01mif\u001b[39;00m response:\n\u001b[0;32m    321\u001b[0m     \u001b[38;5;28mself\u001b[39m\u001b[38;5;241m.\u001b[39merror_handler\u001b[38;5;241m.\u001b[39mcheck_response(response)\n",
      "File \u001b[1;32m~\\anaconda3\\Lib\\site-packages\\selenium\\webdriver\\remote\\remote_connection.py:374\u001b[0m, in \u001b[0;36mRemoteConnection.execute\u001b[1;34m(self, command, params)\u001b[0m\n\u001b[0;32m    372\u001b[0m data \u001b[38;5;241m=\u001b[39m utils\u001b[38;5;241m.\u001b[39mdump_json(params)\n\u001b[0;32m    373\u001b[0m url \u001b[38;5;241m=\u001b[39m \u001b[38;5;124m'\u001b[39m\u001b[38;5;132;01m%s\u001b[39;00m\u001b[38;5;132;01m%s\u001b[39;00m\u001b[38;5;124m'\u001b[39m \u001b[38;5;241m%\u001b[39m (\u001b[38;5;28mself\u001b[39m\u001b[38;5;241m.\u001b[39m_url, path)\n\u001b[1;32m--> 374\u001b[0m \u001b[38;5;28;01mreturn\u001b[39;00m \u001b[38;5;28mself\u001b[39m\u001b[38;5;241m.\u001b[39m_request(command_info[\u001b[38;5;241m0\u001b[39m], url, body\u001b[38;5;241m=\u001b[39mdata)\n",
      "File \u001b[1;32m~\\anaconda3\\Lib\\site-packages\\selenium\\webdriver\\remote\\remote_connection.py:397\u001b[0m, in \u001b[0;36mRemoteConnection._request\u001b[1;34m(self, method, url, body)\u001b[0m\n\u001b[0;32m    394\u001b[0m     body \u001b[38;5;241m=\u001b[39m \u001b[38;5;28;01mNone\u001b[39;00m\n\u001b[0;32m    396\u001b[0m \u001b[38;5;28;01mif\u001b[39;00m \u001b[38;5;28mself\u001b[39m\u001b[38;5;241m.\u001b[39mkeep_alive:\n\u001b[1;32m--> 397\u001b[0m     resp \u001b[38;5;241m=\u001b[39m \u001b[38;5;28mself\u001b[39m\u001b[38;5;241m.\u001b[39m_conn\u001b[38;5;241m.\u001b[39mrequest(method, url, body\u001b[38;5;241m=\u001b[39mbody, headers\u001b[38;5;241m=\u001b[39mheaders)\n\u001b[0;32m    399\u001b[0m     statuscode \u001b[38;5;241m=\u001b[39m resp\u001b[38;5;241m.\u001b[39mstatus\n\u001b[0;32m    400\u001b[0m \u001b[38;5;28;01melse\u001b[39;00m:\n",
      "File \u001b[1;32m~\\anaconda3\\Lib\\site-packages\\urllib3\\request.py:78\u001b[0m, in \u001b[0;36mRequestMethods.request\u001b[1;34m(self, method, url, fields, headers, **urlopen_kw)\u001b[0m\n\u001b[0;32m     74\u001b[0m     \u001b[38;5;28;01mreturn\u001b[39;00m \u001b[38;5;28mself\u001b[39m\u001b[38;5;241m.\u001b[39mrequest_encode_url(\n\u001b[0;32m     75\u001b[0m         method, url, fields\u001b[38;5;241m=\u001b[39mfields, headers\u001b[38;5;241m=\u001b[39mheaders, \u001b[38;5;241m*\u001b[39m\u001b[38;5;241m*\u001b[39murlopen_kw\n\u001b[0;32m     76\u001b[0m     )\n\u001b[0;32m     77\u001b[0m \u001b[38;5;28;01melse\u001b[39;00m:\n\u001b[1;32m---> 78\u001b[0m     \u001b[38;5;28;01mreturn\u001b[39;00m \u001b[38;5;28mself\u001b[39m\u001b[38;5;241m.\u001b[39mrequest_encode_body(\n\u001b[0;32m     79\u001b[0m         method, url, fields\u001b[38;5;241m=\u001b[39mfields, headers\u001b[38;5;241m=\u001b[39mheaders, \u001b[38;5;241m*\u001b[39m\u001b[38;5;241m*\u001b[39murlopen_kw\n\u001b[0;32m     80\u001b[0m     )\n",
      "File \u001b[1;32m~\\anaconda3\\Lib\\site-packages\\urllib3\\request.py:170\u001b[0m, in \u001b[0;36mRequestMethods.request_encode_body\u001b[1;34m(self, method, url, fields, headers, encode_multipart, multipart_boundary, **urlopen_kw)\u001b[0m\n\u001b[0;32m    167\u001b[0m extra_kw[\u001b[38;5;124m\"\u001b[39m\u001b[38;5;124mheaders\u001b[39m\u001b[38;5;124m\"\u001b[39m]\u001b[38;5;241m.\u001b[39mupdate(headers)\n\u001b[0;32m    168\u001b[0m extra_kw\u001b[38;5;241m.\u001b[39mupdate(urlopen_kw)\n\u001b[1;32m--> 170\u001b[0m \u001b[38;5;28;01mreturn\u001b[39;00m \u001b[38;5;28mself\u001b[39m\u001b[38;5;241m.\u001b[39murlopen(method, url, \u001b[38;5;241m*\u001b[39m\u001b[38;5;241m*\u001b[39mextra_kw)\n",
      "File \u001b[1;32m~\\anaconda3\\Lib\\site-packages\\urllib3\\poolmanager.py:376\u001b[0m, in \u001b[0;36mPoolManager.urlopen\u001b[1;34m(self, method, url, redirect, **kw)\u001b[0m\n\u001b[0;32m    374\u001b[0m     response \u001b[38;5;241m=\u001b[39m conn\u001b[38;5;241m.\u001b[39murlopen(method, url, \u001b[38;5;241m*\u001b[39m\u001b[38;5;241m*\u001b[39mkw)\n\u001b[0;32m    375\u001b[0m \u001b[38;5;28;01melse\u001b[39;00m:\n\u001b[1;32m--> 376\u001b[0m     response \u001b[38;5;241m=\u001b[39m conn\u001b[38;5;241m.\u001b[39murlopen(method, u\u001b[38;5;241m.\u001b[39mrequest_uri, \u001b[38;5;241m*\u001b[39m\u001b[38;5;241m*\u001b[39mkw)\n\u001b[0;32m    378\u001b[0m redirect_location \u001b[38;5;241m=\u001b[39m redirect \u001b[38;5;129;01mand\u001b[39;00m response\u001b[38;5;241m.\u001b[39mget_redirect_location()\n\u001b[0;32m    379\u001b[0m \u001b[38;5;28;01mif\u001b[39;00m \u001b[38;5;129;01mnot\u001b[39;00m redirect_location:\n",
      "File \u001b[1;32m~\\anaconda3\\Lib\\site-packages\\urllib3\\connectionpool.py:714\u001b[0m, in \u001b[0;36mHTTPConnectionPool.urlopen\u001b[1;34m(self, method, url, body, headers, retries, redirect, assert_same_host, timeout, pool_timeout, release_conn, chunked, body_pos, **response_kw)\u001b[0m\n\u001b[0;32m    711\u001b[0m     \u001b[38;5;28mself\u001b[39m\u001b[38;5;241m.\u001b[39m_prepare_proxy(conn)\n\u001b[0;32m    713\u001b[0m \u001b[38;5;66;03m# Make the request on the httplib connection object.\u001b[39;00m\n\u001b[1;32m--> 714\u001b[0m httplib_response \u001b[38;5;241m=\u001b[39m \u001b[38;5;28mself\u001b[39m\u001b[38;5;241m.\u001b[39m_make_request(\n\u001b[0;32m    715\u001b[0m     conn,\n\u001b[0;32m    716\u001b[0m     method,\n\u001b[0;32m    717\u001b[0m     url,\n\u001b[0;32m    718\u001b[0m     timeout\u001b[38;5;241m=\u001b[39mtimeout_obj,\n\u001b[0;32m    719\u001b[0m     body\u001b[38;5;241m=\u001b[39mbody,\n\u001b[0;32m    720\u001b[0m     headers\u001b[38;5;241m=\u001b[39mheaders,\n\u001b[0;32m    721\u001b[0m     chunked\u001b[38;5;241m=\u001b[39mchunked,\n\u001b[0;32m    722\u001b[0m )\n\u001b[0;32m    724\u001b[0m \u001b[38;5;66;03m# If we're going to release the connection in ``finally:``, then\u001b[39;00m\n\u001b[0;32m    725\u001b[0m \u001b[38;5;66;03m# the response doesn't need to know about the connection. Otherwise\u001b[39;00m\n\u001b[0;32m    726\u001b[0m \u001b[38;5;66;03m# it will also try to release it and we'll have a double-release\u001b[39;00m\n\u001b[0;32m    727\u001b[0m \u001b[38;5;66;03m# mess.\u001b[39;00m\n\u001b[0;32m    728\u001b[0m response_conn \u001b[38;5;241m=\u001b[39m conn \u001b[38;5;28;01mif\u001b[39;00m \u001b[38;5;129;01mnot\u001b[39;00m release_conn \u001b[38;5;28;01melse\u001b[39;00m \u001b[38;5;28;01mNone\u001b[39;00m\n",
      "File \u001b[1;32m~\\anaconda3\\Lib\\site-packages\\urllib3\\connectionpool.py:466\u001b[0m, in \u001b[0;36mHTTPConnectionPool._make_request\u001b[1;34m(self, conn, method, url, timeout, chunked, **httplib_request_kw)\u001b[0m\n\u001b[0;32m    461\u001b[0m             httplib_response \u001b[38;5;241m=\u001b[39m conn\u001b[38;5;241m.\u001b[39mgetresponse()\n\u001b[0;32m    462\u001b[0m         \u001b[38;5;28;01mexcept\u001b[39;00m \u001b[38;5;167;01mBaseException\u001b[39;00m \u001b[38;5;28;01mas\u001b[39;00m e:\n\u001b[0;32m    463\u001b[0m             \u001b[38;5;66;03m# Remove the TypeError from the exception chain in\u001b[39;00m\n\u001b[0;32m    464\u001b[0m             \u001b[38;5;66;03m# Python 3 (including for exceptions like SystemExit).\u001b[39;00m\n\u001b[0;32m    465\u001b[0m             \u001b[38;5;66;03m# Otherwise it looks like a bug in the code.\u001b[39;00m\n\u001b[1;32m--> 466\u001b[0m             six\u001b[38;5;241m.\u001b[39mraise_from(e, \u001b[38;5;28;01mNone\u001b[39;00m)\n\u001b[0;32m    467\u001b[0m \u001b[38;5;28;01mexcept\u001b[39;00m (SocketTimeout, BaseSSLError, SocketError) \u001b[38;5;28;01mas\u001b[39;00m e:\n\u001b[0;32m    468\u001b[0m     \u001b[38;5;28mself\u001b[39m\u001b[38;5;241m.\u001b[39m_raise_timeout(err\u001b[38;5;241m=\u001b[39me, url\u001b[38;5;241m=\u001b[39murl, timeout_value\u001b[38;5;241m=\u001b[39mread_timeout)\n",
      "File \u001b[1;32m<string>:3\u001b[0m, in \u001b[0;36mraise_from\u001b[1;34m(value, from_value)\u001b[0m\n",
      "File \u001b[1;32m~\\anaconda3\\Lib\\site-packages\\urllib3\\connectionpool.py:461\u001b[0m, in \u001b[0;36mHTTPConnectionPool._make_request\u001b[1;34m(self, conn, method, url, timeout, chunked, **httplib_request_kw)\u001b[0m\n\u001b[0;32m    458\u001b[0m \u001b[38;5;28;01mexcept\u001b[39;00m \u001b[38;5;167;01mTypeError\u001b[39;00m:\n\u001b[0;32m    459\u001b[0m     \u001b[38;5;66;03m# Python 3\u001b[39;00m\n\u001b[0;32m    460\u001b[0m     \u001b[38;5;28;01mtry\u001b[39;00m:\n\u001b[1;32m--> 461\u001b[0m         httplib_response \u001b[38;5;241m=\u001b[39m conn\u001b[38;5;241m.\u001b[39mgetresponse()\n\u001b[0;32m    462\u001b[0m     \u001b[38;5;28;01mexcept\u001b[39;00m \u001b[38;5;167;01mBaseException\u001b[39;00m \u001b[38;5;28;01mas\u001b[39;00m e:\n\u001b[0;32m    463\u001b[0m         \u001b[38;5;66;03m# Remove the TypeError from the exception chain in\u001b[39;00m\n\u001b[0;32m    464\u001b[0m         \u001b[38;5;66;03m# Python 3 (including for exceptions like SystemExit).\u001b[39;00m\n\u001b[0;32m    465\u001b[0m         \u001b[38;5;66;03m# Otherwise it looks like a bug in the code.\u001b[39;00m\n\u001b[0;32m    466\u001b[0m         six\u001b[38;5;241m.\u001b[39mraise_from(e, \u001b[38;5;28;01mNone\u001b[39;00m)\n",
      "File \u001b[1;32m~\\anaconda3\\Lib\\http\\client.py:1378\u001b[0m, in \u001b[0;36mHTTPConnection.getresponse\u001b[1;34m(self)\u001b[0m\n\u001b[0;32m   1376\u001b[0m \u001b[38;5;28;01mtry\u001b[39;00m:\n\u001b[0;32m   1377\u001b[0m     \u001b[38;5;28;01mtry\u001b[39;00m:\n\u001b[1;32m-> 1378\u001b[0m         response\u001b[38;5;241m.\u001b[39mbegin()\n\u001b[0;32m   1379\u001b[0m     \u001b[38;5;28;01mexcept\u001b[39;00m \u001b[38;5;167;01mConnectionError\u001b[39;00m:\n\u001b[0;32m   1380\u001b[0m         \u001b[38;5;28mself\u001b[39m\u001b[38;5;241m.\u001b[39mclose()\n",
      "File \u001b[1;32m~\\anaconda3\\Lib\\http\\client.py:318\u001b[0m, in \u001b[0;36mHTTPResponse.begin\u001b[1;34m(self)\u001b[0m\n\u001b[0;32m    316\u001b[0m \u001b[38;5;66;03m# read until we get a non-100 response\u001b[39;00m\n\u001b[0;32m    317\u001b[0m \u001b[38;5;28;01mwhile\u001b[39;00m \u001b[38;5;28;01mTrue\u001b[39;00m:\n\u001b[1;32m--> 318\u001b[0m     version, status, reason \u001b[38;5;241m=\u001b[39m \u001b[38;5;28mself\u001b[39m\u001b[38;5;241m.\u001b[39m_read_status()\n\u001b[0;32m    319\u001b[0m     \u001b[38;5;28;01mif\u001b[39;00m status \u001b[38;5;241m!=\u001b[39m CONTINUE:\n\u001b[0;32m    320\u001b[0m         \u001b[38;5;28;01mbreak\u001b[39;00m\n",
      "File \u001b[1;32m~\\anaconda3\\Lib\\http\\client.py:279\u001b[0m, in \u001b[0;36mHTTPResponse._read_status\u001b[1;34m(self)\u001b[0m\n\u001b[0;32m    278\u001b[0m \u001b[38;5;28;01mdef\u001b[39;00m \u001b[38;5;21m_read_status\u001b[39m(\u001b[38;5;28mself\u001b[39m):\n\u001b[1;32m--> 279\u001b[0m     line \u001b[38;5;241m=\u001b[39m \u001b[38;5;28mstr\u001b[39m(\u001b[38;5;28mself\u001b[39m\u001b[38;5;241m.\u001b[39mfp\u001b[38;5;241m.\u001b[39mreadline(_MAXLINE \u001b[38;5;241m+\u001b[39m \u001b[38;5;241m1\u001b[39m), \u001b[38;5;124m\"\u001b[39m\u001b[38;5;124miso-8859-1\u001b[39m\u001b[38;5;124m\"\u001b[39m)\n\u001b[0;32m    280\u001b[0m     \u001b[38;5;28;01mif\u001b[39;00m \u001b[38;5;28mlen\u001b[39m(line) \u001b[38;5;241m>\u001b[39m _MAXLINE:\n\u001b[0;32m    281\u001b[0m         \u001b[38;5;28;01mraise\u001b[39;00m LineTooLong(\u001b[38;5;124m\"\u001b[39m\u001b[38;5;124mstatus line\u001b[39m\u001b[38;5;124m\"\u001b[39m)\n",
      "File \u001b[1;32m~\\anaconda3\\Lib\\socket.py:706\u001b[0m, in \u001b[0;36mSocketIO.readinto\u001b[1;34m(self, b)\u001b[0m\n\u001b[0;32m    704\u001b[0m \u001b[38;5;28;01mwhile\u001b[39;00m \u001b[38;5;28;01mTrue\u001b[39;00m:\n\u001b[0;32m    705\u001b[0m     \u001b[38;5;28;01mtry\u001b[39;00m:\n\u001b[1;32m--> 706\u001b[0m         \u001b[38;5;28;01mreturn\u001b[39;00m \u001b[38;5;28mself\u001b[39m\u001b[38;5;241m.\u001b[39m_sock\u001b[38;5;241m.\u001b[39mrecv_into(b)\n\u001b[0;32m    707\u001b[0m     \u001b[38;5;28;01mexcept\u001b[39;00m timeout:\n\u001b[0;32m    708\u001b[0m         \u001b[38;5;28mself\u001b[39m\u001b[38;5;241m.\u001b[39m_timeout_occurred \u001b[38;5;241m=\u001b[39m \u001b[38;5;28;01mTrue\u001b[39;00m\n",
      "\u001b[1;31mKeyboardInterrupt\u001b[0m: "
     ]
    }
   ],
   "source": [
    "for link in links_viettel:\n",
    "    # Truy cập từng link\n",
    "    driver.get(link)\n",
    "    \n",
    "    # Lăn chuột dần dần để hiện thông tin\n",
    "    height = 0\n",
    "    while height<=2000:\n",
    "        driver.execute_script(f'window.scrollTo(0,{height})')\n",
    "        sleep(1)\n",
    "        height+=500\n",
    "    \n",
    "    # Ấn hiện thêm thông tin\n",
    "    try:\n",
    "        view_detail = driver.find_element(By.CSS_SELECTOR, \"#navcau-hinh.detail\")\n",
    "        driver.execute_script(\"arguments[0].click();\", view_detail)\n",
    "        sleep(1)\n",
    "    except:\n",
    "        pass\n",
    "    \n",
    "    # Lấy độ phân giải\n",
    "    try:\n",
    "        res = driver.find_element(By.XPATH, \"//td[text()='Độ phân giải']//parent::tr//td[2]\")\n",
    "        ActionChains(driver).move_to_element(res).perform()\n",
    "        res_viettel.append(res.text)\n",
    "    except:\n",
    "        res_viettel.append(None)\n",
    "        \n",
    "    # Lấy độ rộng màn hình    \n",
    "    try:\n",
    "        screen_width = driver.find_element(By.XPATH, \"//td[text()='Kích thước màn hình']//parent::tr//td[2]\")\n",
    "        ActionChains(driver).move_to_element(screen_width).perform()\n",
    "        screen_width_viettel.append(screen_width.text)\n",
    "    except:\n",
    "        screen_width_viettel.append(None)\n",
    "        \n",
    "    # Lấy os    \n",
    "    try:\n",
    "        os = driver.find_element(By.XPATH, \"//td[text()='Hệ điều hành']//parent::tr//td[2]\")\n",
    "        ActionChains(driver).move_to_element(os).perform()\n",
    "        os_viettel.append(os.text)\n",
    "    except:\n",
    "        os_viettel.append(None)\n",
    "\n",
    "    # Lấy cpu   \n",
    "    try:\n",
    "        cpu = driver.find_element(By.XPATH, \"//td[text()='Chipset']//parent::tr//td[2]\")\n",
    "        ActionChains(driver).move_to_element(cpu).perform()\n",
    "        cpu_viettel.append(cpu.text)\n",
    "    except:\n",
    "        cpu_viettel.append(None)\n",
    "        \n",
    "    # Lấy tốc độ cpu    \n",
    "    try:\n",
    "        cpu_proc_speed = driver.find_element(By.XPATH, \"//td[text()='Số nhân CPU']//parent::tr//td[2]\")\n",
    "        ActionChains(driver).move_to_element(cpu_proc_speed).perform()\n",
    "        cpu_proc_speed_viettel.append(cpu_proc_speed.text)\n",
    "    except:\n",
    "        cpu_proc_speed_viettel.append(None)\n",
    "        \n",
    "    # Lấy gpu\n",
    "    try:\n",
    "        gpu = driver.find_element(By.XPATH, \"//td[text()='Chip đồ họa (GPU)']//parent::tr//td[2]\")\n",
    "        ActionChains(driver).move_to_element(gpu).perform()\n",
    "        gpu_viettel.append(gpu.text)\n",
    "    except:\n",
    "        gpu_viettel.append(None)\n",
    "    \n",
    "    # Lấy ram\n",
    "    try:\n",
    "        ram = driver.find_element(By.XPATH, \"//td[text()='RAM']//parent::tr//td[2]\")\n",
    "        ActionChains(driver).move_to_element(ram).perform()\n",
    "        ram_viettel.append(ram.text)\n",
    "    except:\n",
    "        ram_viettel.append(None)\n",
    "        \n",
    "    # Lấy dung lượng    \n",
    "    try:\n",
    "        storage = driver.find_element(By.XPATH, \"//td[text()='Bộ nhớ trong']//parent::tr//td[2]\")\n",
    "        ActionChains(driver).move_to_element(storage).perform()\n",
    "        storage_viettel.append(storage.text)\n",
    "    except:\n",
    "        storage_viettel.append(None)\n",
    "    \n",
    "    # Lấy camera sau\n",
    "    try:\n",
    "        rear_camera = driver.find_element(By.XPATH, \"//td[text()='Camera sau']//parent::tr//td[2]\")\n",
    "        ActionChains(driver).move_to_element(rear_camera).perform()\n",
    "        rear_camera_viettel.append(rear_camera.text)\n",
    "    except:\n",
    "        rear_camera_viettel.append(None)\n",
    "        \n",
    "    # Lấy camera trước\n",
    "    try:\n",
    "        front_camera = driver.find_element(By.XPATH, \"//td[text()='Camera trước']//parent::tr//td[2]\")\n",
    "        ActionChains(driver).move_to_element(front_camera).perform()\n",
    "        front_camera_viettel.append(front_camera.text)\n",
    "    except:\n",
    "        front_camera_viettel.append(None)\n",
    "    \n",
    "    # Lấy dung lượng pin\n",
    "    try:\n",
    "        battery = driver.find_element(By.XPATH, \"//td[text()='Dung lượng Pin']//parent::tr//td[2]\")\n",
    "        ActionChains(driver).move_to_element(battery).perform()\n",
    "        battery_viettel.append(battery.text)\n",
    "    except:\n",
    "        battery_viettel.append(None)\n",
    "        \n",
    "    # Lấy kích thước\n",
    "    try:\n",
    "        size = driver.find_element(By.XPATH, \"//td[text()='Kích thước']//parent::tr//td[2]\")\n",
    "        ActionChains(driver).move_to_element(size).perform()\n",
    "        size_viettel.append(size.text)\n",
    "    except:\n",
    "        size_viettel.append(None)\n",
    "        \n",
    "    # Lấy trọng lượng\n",
    "    try:\n",
    "        weight = driver.find_element(By.XPATH, \"//td[text()='Trọng lượng']//parent::tr//td[2]\")\n",
    "        ActionChains(driver).move_to_element(weight).perform()\n",
    "        weight_viettel.append(weight.text)\n",
    "    except:\n",
    "        weight_viettel.append(None)\n",
    "        \n",
    "    # Lấy hãng\n",
    "    try:\n",
    "        brand = driver.find_element(By.XPATH, \"//td[text()='Hãng']//parent::tr//td[2]\")\n",
    "        ActionChains(driver).move_to_element(brand).perform()\n",
    "        brand_viettel.append(brand.text)\n",
    "    except:\n",
    "        brand_viettel.append(None)"
   ]
  },
  {
   "cell_type": "markdown",
   "id": "bd6f7285",
   "metadata": {},
   "source": [
    "## Tổng hợp lại"
   ]
  },
  {
   "cell_type": "code",
   "execution_count": null,
   "id": "59766132",
   "metadata": {},
   "outputs": [],
   "source": [
    "links = links_viettel + links_cps + links_tiki\n",
    "title = title_viettel + title_cps + title_tiki\n",
    "price_list = price_viettel + price_cps + price_tiki\n",
    "discount_price_list = discount_price_viettel + discount_price_cps + discount_price_tiki\n",
    "discount_list = discount_viettel + discount_cps + discount_tiki"
   ]
  },
  {
   "cell_type": "code",
   "execution_count": null,
   "id": "6eaa2577",
   "metadata": {},
   "outputs": [],
   "source": [
    "res_list = res_viettel + res_cps + res_tiki\n",
    "screen_width_list = screen_width_viettel + screen_width_cps + screen_width_tiki\n",
    "os_list = os_viettel + os_cps + os_tiki\n",
    "cpu_list = cpu_viettel + cpu_cps + cpu_tiki\n",
    "cpu_proc_speed_list = cpu_proc_speed_viettel + cpu_proc_speed_cps + cpu_proc_speed_tiki\n",
    "gpu_list = gpu_viettel + gpu_cps + gpu_tiki\n",
    "ram_list = ram_viettel + ram_cps + ram_tiki\n",
    "storage_list = storage_viettel + storage_cps + storage_tiki\n",
    "front_camera_list = front_camera_viettel + front_camera_cps + front_camera_tiki\n",
    "rear_camera_list = rear_camera_viettel + rear_camera_cps + rear_camera_tiki\n",
    "battery_list = battery_viettel + battery_cps + battery_tiki\n",
    "size_list = size_viettel + size_cps + size_tiki\n",
    "weight_list = weight_viettel + weight_cps + weight_tiki\n",
    "brand_list = brand_viettel + brand_cps + brand_tiki"
   ]
  },
  {
   "cell_type": "code",
   "execution_count": null,
   "id": "ea92ec10",
   "metadata": {},
   "outputs": [],
   "source": [
    "data = pd.DataFrame(list(zip(title, price_list, discount_price_list, discount_list, res_list, screen_width_list, os_list,\n",
    "                        cpu_list, cpu_proc_speed_list, gpu_list, ram_list, storage_list, front_camera_list, rear_camera_list,\n",
    "                        battery_list, size_list, weight_list, brand_list , links)), \n",
    "                    columns = 'Tên sản phẩm', 'Giá', 'Giá sau khi giảm giá', 'Discount', 'Độ phân giải', 'Độ rộng màn hình',\n",
    "                   'Hệ điều hành', 'CPU', 'Tốc độ CPU', 'GPU', 'RAM', 'Dung lượng', 'Camere trước', 'Camera sau',\n",
    "                   'Dung lượng pin', 'Kích thước', 'Trọng lượng', 'Hãng', 'Link')"
   ]
  },
  {
   "cell_type": "code",
   "execution_count": null,
   "id": "04078e7e",
   "metadata": {},
   "outputs": [],
   "source": [
    "data.to_csv(\"tablet.csv\", index=False)"
   ]
  }
 ],
 "metadata": {
  "kernelspec": {
   "display_name": "Python 3 (ipykernel)",
   "language": "python",
   "name": "python3"
  },
  "language_info": {
   "codemirror_mode": {
    "name": "ipython",
    "version": 3
   },
   "file_extension": ".py",
   "mimetype": "text/x-python",
   "name": "python",
   "nbconvert_exporter": "python",
   "pygments_lexer": "ipython3",
   "version": "3.11.4"
  }
 },
 "nbformat": 4,
 "nbformat_minor": 5
}
